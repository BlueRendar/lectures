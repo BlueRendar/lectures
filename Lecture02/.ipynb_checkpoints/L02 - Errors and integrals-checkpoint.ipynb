{
 "cells": [
  {
   "cell_type": "markdown",
   "metadata": {
    "slideshow": {
     "slide_type": "skip"
    }
   },
   "source": [
    "**Author: Nico Grisouard, nicolas.grisouard@physics.utoronto.ca**\n",
    "\n",
    "*Supporting textbook chapters for week 2: 4.3, 5.1-5.3.*"
   ]
  },
  {
   "cell_type": "markdown",
   "metadata": {
    "slideshow": {
     "slide_type": "slide"
    }
   },
   "source": [
    "This week's topics:\n",
    "* Numerical errors,\n",
    "* How to compute integrals (basic methods)."
   ]
  },
  {
   "attachments": {},
   "cell_type": "markdown",
   "metadata": {
    "slideshow": {
     "slide_type": "slide"
    }
   },
   "source": [
    "# Numerical errors\n",
    "\n",
    "Aside from errors in programming or discretizing the physical model, there are 2 types of errors in computations:\n",
    "1. Rounding errors: errors in how the computer stores or manipulates numbers.\n",
    "2. Approximation errors (sometimes called truncation errors): errors in approximations to various functions.\n",
    "\n",
    "Reason: computers are machines, with inherent limitations.\n",
    "\n",
    "Which begs the question: how does a computer represent a number?"
   ]
  },
  {
   "cell_type": "markdown",
   "metadata": {
    "slideshow": {
     "slide_type": "subslide"
    }
   },
   "source": [
    "## Preliminary step: integers and floats\n",
    "\n",
    "* Variables `a`, `b` and `c` below are all equal to 1000.\n",
    "* Yet, `a` is treated very differently by da python than `b` and `c`:"
   ]
  },
  {
   "cell_type": "code",
   "execution_count": 6,
   "metadata": {
    "scrolled": true
   },
   "outputs": [
    {
     "name": "stdout",
     "output_type": "stream",
     "text": [
      "The type of a is <class 'int'>\n",
      "The type of b is <class 'float'>\n",
      "The type of c is <class 'float'>\n"
     ]
    }
   ],
   "source": [
    "a = 1000\n",
    "b = 1000.\n",
    "c = 1e3\n",
    "print('The type of a is', type(a))\n",
    "print('The type of b is', type(b))\n",
    "print('The type of c is', type(c))"
   ]
  },
  {
   "cell_type": "markdown",
   "metadata": {
    "slideshow": {
     "slide_type": "subslide"
    }
   },
   "source": [
    "## Error #1: rounding errors\n",
    "\n",
    "### General principle\n",
    "\n",
    "* Integer numbers: python does not limit the number of digits stored. Can cause problems!"
   ]
  },
  {
   "cell_type": "code",
   "execution_count": 16,
   "metadata": {
    "scrolled": true,
    "slideshow": {
     "slide_type": "-"
    }
   },
   "outputs": [
    {
     "name": "stdout",
     "output_type": "stream",
     "text": [
      "1024\n"
     ]
    }
   ],
   "source": [
    "print(2**10)  # increase the exponent from 10 to 1,000,000"
   ]
  },
  {
   "attachments": {},
   "cell_type": "markdown",
   "metadata": {
    "slideshow": {
     "slide_type": "subslide"
    }
   },
   "source": [
    "* Non-integer numbers with more than 16 significant figures: **rounding** after 16 figures.\n",
    "\n",
    "* Each mathematical operation (FLOPS, Floating-point Operations Per Second) introduces errors in the 16th digit. You can’t assume `1.3+2.4=3.7`, it might be `3.699999999999999` even though the 2 numbers you are adding only have 2 significant figures.\n",
    "\n",
    "* Know this, accept it, work with it. You are better at adding 1.3 and 2.4 than your computer, but you are much slower. This is why we use computers."
   ]
  },
  {
   "cell_type": "markdown",
   "metadata": {},
   "source": [
    "There are also limitations as to the largest number representable in python, the closest to zero, etc.\n",
    "If you want to know what they are on your machine, you can run the code below:"
   ]
  },
  {
   "cell_type": "code",
   "execution_count": 31,
   "metadata": {
    "slideshow": {
     "slide_type": "subslide"
    }
   },
   "outputs": [
    {
     "name": "stdout",
     "output_type": "stream",
     "text": [
      "attributes you can access in finfo(float64)  ['__class__', '__delattr__', '__dict__', '__dir__', '__doc__', '__eq__', '__format__', '__ge__', '__getattribute__', '__gt__', '__hash__', '__init__', '__init_subclass__', '__le__', '__lt__', '__module__', '__ne__', '__new__', '__reduce__', '__reduce_ex__', '__repr__', '__setattr__', '__sizeof__', '__str__', '__subclasshook__', '__weakref__', '_finfo_cache', '_init', '_str_eps', '_str_epsneg', '_str_max', '_str_resolution', '_str_tiny', 'bits', 'dtype', 'eps', 'epsneg', 'iexp', 'machar', 'machep', 'max', 'maxexp', 'min', 'minexp', 'negep', 'nexp', 'nmant', 'precision', 'resolution', 'tiny']\n",
      "maximum numbers in 64 bit and 32 bit precision:  1.79769313486e+308 3.40282e+38\n",
      "minimum numbers in 64 bit and 32 bit precision:  -1.79769313486e+308 -3.40282e+38\n",
      "epsilon for 64 bit and 32 bit:  2.22044604925e-16 1.19209e-07\n",
      "Should be epsilon for this machine if it's 64 bit 2.22044604925e-16\n",
      "Should be zero 0.0\n"
     ]
    }
   ],
   "source": [
    "from numpy import finfo, float64, float32\n",
    "# float64 contains double-precision floats, float32 is single-precision\n",
    "print(\"attributes you can access in finfo(float64) \", dir(finfo(float64)))\n",
    "print( \"maximum numbers in 64 bit and 32 bit precision: \",\n",
    "      finfo(float64).max, finfo(float32).max)\n",
    "print( \"minimum numbers in 64 bit and 32 bit precision: \",\n",
    "      finfo(float64).min, finfo(float32).min)\n",
    "print( \"epsilon for 64 bit and 32 bit: \",\n",
    "      finfo(float64).eps, finfo(float32).eps)\n",
    "print( \"Should be epsilon for this machine if it's 64 bit\",\n",
    "      float64(1)+finfo(float64).eps-float64(1))\n",
    "print( \"Should be zero\",\n",
    "      float64(1)+finfo(float64).eps/2.0-float64(1))"
   ]
  },
  {
   "cell_type": "code",
   "execution_count": 30,
   "metadata": {
    "slideshow": {
     "slide_type": "skip"
    }
   },
   "outputs": [
    {
     "data": {
      "text/plain": [
       "1.797693134861294e+308"
      ]
     },
     "execution_count": 30,
     "metadata": {},
     "output_type": "execute_result"
    }
   ],
   "source": [
    "float(1.999999999999999**1024)"
   ]
  },
  {
   "cell_type": "markdown",
   "metadata": {
    "slideshow": {
     "slide_type": "subslide"
    }
   },
   "source": [
    "### A dangerous example\n",
    "\n",
    "Remember this one?"
   ]
  },
  {
   "cell_type": "code",
   "execution_count": 17,
   "metadata": {},
   "outputs": [
    {
     "name": "stdout",
     "output_type": "stream",
     "text": [
      "(x+y) + z =  1.0\n",
      "x + (y+z) =  1.0\n"
     ]
    }
   ],
   "source": [
    "x = 1e20\n",
    "y = -1e20\n",
    "z = 1.\n",
    "print(\"(x+y) + z = \", (x+y)+z)\n",
    "print(\"x + (y+z) = \", (x+y)+z)"
   ]
  },
  {
   "cell_type": "markdown",
   "metadata": {},
   "source": [
    "And how about this one?"
   ]
  },
  {
   "cell_type": "code",
   "execution_count": 35,
   "metadata": {},
   "outputs": [
    {
     "data": {
      "text/plain": [
       "2.220446049250313e-16"
      ]
     },
     "execution_count": 35,
     "metadata": {},
     "output_type": "execute_result"
    }
   ],
   "source": [
    "7./3. - 4./3 - 1."
   ]
  },
  {
   "cell_type": "markdown",
   "metadata": {
    "slideshow": {
     "slide_type": "subslide"
    }
   },
   "source": [
    "### Error constant\n",
    "\n",
    "* Newman: $\\sigma = C |x|$.\n",
    "    * $x =$number you want to represent.\n",
    "    * $\\sigma = $standard deviation of error \n",
    "    * $C = $fractional error for a single floating point number\n",
    "* For 64 bit float: $C \\sim 10^{-16} \\sim$ machine precision $\\epsilon_M$.\n",
    "* We cannot know a number better than this on the computer (otherwise it wouldn’t be a limit on the precision).\n",
    "* This fractional error is different on different computers but should not depend on $x$."
   ]
  },
  {
   "cell_type": "markdown",
   "metadata": {
    "slideshow": {
     "slide_type": "subslide"
    }
   },
   "source": [
    "### Propagation of errors\n",
    "\n",
    "* Errors propagate statistically like they do in experimental physics.\n",
    "* Example that follows: let $C = 1\\%$ (to exagerate the effects) and add two numbers."
   ]
  },
  {
   "cell_type": "code",
   "execution_count": 1,
   "metadata": {
    "slideshow": {
     "slide_type": "subslide"
    }
   },
   "outputs": [],
   "source": [
    "# example to illustrate machine error using large error constant C\n",
    "# to make it easier to see graphically\n",
    "\n",
    "from numpy.random import normal  # import normal distribution\n",
    "from numpy import arange\n",
    "# import plotting functions below:\n",
    "from pylab import hist, show, subplot, figure, xlabel, xticks, legend, savefig\n",
    "from matplotlib import rcParams  # import rcparams to change font size\n",
    "rcParams.update({'font.size':14, 'legend.fontsize':10})\n",
    "\n",
    "# define array size\n",
    "N = 1000000\n",
    "# define number of bins for histogram\n",
    "N_Bins = 100\n",
    "# define C, which is our simulated error constant\n",
    "C = 1e-2"
   ]
  },
  {
   "cell_type": "code",
   "execution_count": 2,
   "metadata": {
    "slideshow": {
     "slide_type": "subslide"
    }
   },
   "outputs": [],
   "source": [
    "# define numbers\n",
    "(x1, x2) = (3, -3.2)\n",
    "# define errors in terms of C\n",
    "sigma1 = C*abs(x1)\n",
    "sigma2 = C*abs(x2)\n",
    "# define distributions to those numbers satisfying sigma = Cx\n",
    "# This is how we simulate error.\n",
    "d1 = normal(loc=x1, scale=sigma1, size=N)\n",
    "d2 = normal(loc=x2, scale=sigma2, size=N)\n",
    "\n",
    "# then add up the distributions\n",
    "# then calculate the distribution of the sums.\n",
    "sumd = d1 + d2"
   ]
  },
  {
   "cell_type": "code",
   "execution_count": 3,
   "metadata": {
    "slideshow": {
     "slide_type": "subslide"
    }
   },
   "outputs": [
    {
     "data": {
      "image/png": "[encoded data removed]",
      "text/plain": [
       "<matplotlib.figure.Figure at 0x7f28de8f9278>"
      ]
     },
     "metadata": {},
     "output_type": "display_data"
    }
   ],
   "source": [
    "# this plot just shows the a single number and its error\n",
    "figure(2, figsize=((7, 7)))\n",
    "hist(d1, N_Bins, histtype='stepfilled')\n",
    "xlabel('mean +- absolute error:' + str(x1) + ' +- ' + str(sigma1))\n",
    "savefig('MachineError_x1=' + str(x1) + '.png')"
   ]
  },
  {
   "cell_type": "code",
   "execution_count": 4,
   "metadata": {
    "slideshow": {
     "slide_type": "skip"
    }
   },
   "outputs": [],
   "source": [
    "show()"
   ]
  },
  {
   "cell_type": "code",
   "execution_count": 10,
   "metadata": {
    "slideshow": {
     "slide_type": "subslide"
    }
   },
   "outputs": [
    {
     "data": {
      "text/plain": [
       "Text(0.5,0,'mean + absolute error')"
      ]
     },
     "execution_count": 10,
     "metadata": {},
     "output_type": "execute_result"
    },
    {
     "data": {
      "image/png": "[encoded data removed]",
      "text/plain": [
       "<matplotlib.figure.Figure at 0x7f5968f44940>"
      ]
     },
     "metadata": {},
     "output_type": "display_data"
    }
   ],
   "source": [
    "figure(1, figsize=((7, 12)))\n",
    "# plot histograms of the two numbers and their sum\n",
    "ax = subplot(2, 1, 1)\n",
    "hist(d1, N_Bins, histtype='stepfilled')\n",
    "hist(sumd, N_Bins,  histtype='stepfilled')\n",
    "hist(d2, N_Bins, histtype='stepfilled')\n",
    "leg=legend((str(x1), 'sum', str(x2)), loc='upper left')\n",
    "ax.grid(True)\n",
    "xlabel('mean + absolute error')"
   ]
  },
  {
   "cell_type": "code",
   "execution_count": 4,
   "metadata": {
    "slideshow": {
     "slide_type": "skip"
    }
   },
   "outputs": [],
   "source": [
    "show()"
   ]
  },
  {
   "cell_type": "code",
   "execution_count": 5,
   "metadata": {
    "slideshow": {
     "slide_type": "subslide"
    }
   },
   "outputs": [
    {
     "data": {
      "text/plain": [
       "Text(0.5,0,'fractional error')"
      ]
     },
     "execution_count": 5,
     "metadata": {},
     "output_type": "execute_result"
    },
    {
     "data": {
      "image/png": "[encoded data removed]",
      "text/plain": [
       "<matplotlib.figure.Figure at 0x7f5968ddc940>"
      ]
     },
     "metadata": {},
     "output_type": "display_data"
    }
   ],
   "source": [
    "# then plot fractional error by diving by the mean values.\n",
    "# fractional errors will be large for opposite-signed large numbers\n",
    "# offset and spread have to be adjusted to make the plots clear.\n",
    "ax = subplot(2, 1, 2)\n",
    "offset = 2\n",
    "spread = offset/4.0\n",
    "hist(-offset+(d1-x1)/x1, N_Bins, histtype='stepfilled')\n",
    "\n",
    "hist((sumd-(x1+x2))/(x1+x2), N_Bins, histtype='stepfilled')\n",
    "hist(offset+(d2-x2)/x2, N_Bins, histtype='stepfilled')\n",
    "\n",
    "xticks([-offset-spread, -offset, -offset+spread, -spread, 0,\n",
    "        spread, offset-spread, offset, offset+spread],\n",
    "       [str(-spread), str(0.0), str(spread), str(-spread),\n",
    "        str(0.0), str(spread), str(-spread), str(0.0), str(spread)])\n",
    "\n",
    "ax.grid(True)\n",
    "\n",
    "xlabel('fractional error')"
   ]
  },
  {
   "cell_type": "code",
   "execution_count": 6,
   "metadata": {
    "slideshow": {
     "slide_type": "skip"
    }
   },
   "outputs": [],
   "source": [
    "show()"
   ]
  },
  {
   "cell_type": "markdown",
   "metadata": {},
   "source": [
    "These errors in differences become **very important** when taking numerical derivatives:\n",
    "$$\\frac{df}{dt} \\approx \\frac{f_{i+1} - f_i}{\\Delta t} = \\text{danger zone}$$"
   ]
  },
  {
   "cell_type": "markdown",
   "metadata": {
    "slideshow": {
     "slide_type": "subslide"
    }
   },
   "source": [
    "### One important rule\n",
    "\n",
    "Never, ever. Never ever ever. Do something like this:"
   ]
  },
  {
   "cell_type": "code",
   "execution_count": 5,
   "metadata": {
    "slideshow": {
     "slide_type": "-"
    }
   },
   "outputs": [
    {
     "name": "stdout",
     "output_type": "stream",
     "text": [
      "7/3 - 4/3 - 1 is not equal to 0\n"
     ]
    }
   ],
   "source": [
    "if 7./3. - 4./3. - 1. == 0:\n",
    "    print('7/3 - 4/3 - 1 = 0')\n",
    "else:\n",
    "    print('7/3 - 4/3 - 1 is not equal to 0')"
   ]
  },
  {
   "cell_type": "markdown",
   "metadata": {
    "slideshow": {
     "slide_type": "fragment"
    }
   },
   "source": [
    "Instead:"
   ]
  },
  {
   "cell_type": "code",
   "execution_count": 7,
   "metadata": {
    "slideshow": {
     "slide_type": "fragment"
    }
   },
   "outputs": [
    {
     "name": "stdout",
     "output_type": "stream",
     "text": [
      "7/3 - 4/3 - 1 = 0\n"
     ]
    }
   ],
   "source": [
    "epsilon = 1e-10  # something that you are sure will work\n",
    "if abs(7./3. - 4./3. - 1.) < epsilon:\n",
    "    print('7/3 - 4/3 - 1 = 0')\n",
    "else:\n",
    "    print('7/3 - 4/3 - 1 is not equal to 0')"
   ]
  },
  {
   "attachments": {},
   "cell_type": "markdown",
   "metadata": {},
   "source": [
    "## Approximation errors\n",
    "\n",
    "* errors introduced in functions due to approximations\n",
    "* very important to consider for **integration** & **dfferentiation** algorithms\n",
    "* we approximate these operations and there is an error in that approximation\n",
    "* Most integration/differentiation algorithms are somehow based on Taylor series expansions, so you can usually figure out the approximation error by looking at the terms in the Taylor expansion that you ignore.\n",
    "\n",
    "This should become clearer once we illustrate it with numerical integrations."
   ]
  },
  {
   "cell_type": "markdown",
   "metadata": {
    "slideshow": {
     "slide_type": "slide"
    }
   },
   "source": [
    "# Numerical integration\n",
    "\n",
    "* Think of integrals as areas under curves.\n",
    "* Approximate these areas in terms of simple shapes (rectangles, trapezoids, rectangles with parabolic tops)\n",
    "\n",
    "![](RecTrapzSimp.png)"
   ]
  },
  {
   "cell_type": "code",
   "execution_count": null,
   "metadata": {},
   "outputs": [],
   "source": []
  }
 ],
 "metadata": {
  "celltoolbar": "Slideshow",
  "kernelspec": {
   "display_name": "Python 3",
   "language": "python",
   "name": "python3"
  },
  "language_info": {
   "codemirror_mode": {
    "name": "ipython",
    "version": 3
   },
   "file_extension": ".py",
   "mimetype": "text/x-python",
   "name": "python",
   "nbconvert_exporter": "python",
   "pygments_lexer": "ipython3",
   "version": "3.6.5"
  },
  "latex_metadata": {
   "affiliation": "PHY407, University of Toronto",
   "author": "Nico Grisouard",
   "title": "Lecture 1: python basics"
  }
 },
 "nbformat": 4,
 "nbformat_minor": 2
}
