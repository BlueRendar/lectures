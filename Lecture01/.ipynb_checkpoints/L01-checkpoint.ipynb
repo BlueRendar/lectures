{
 "cells": [
  {
   "cell_type": "markdown",
   "metadata": {
    "slideshow": {
     "slide_type": "slide"
    }
   },
   "source": [
    "# Machine error: round-off error.\n",
    "\n",
    "Under what circumstances is the following possible?\n",
    "$$(x+y)+z \\neq x + (y + z)$$\n",
    "\n",
    "Look at this Python session:"
   ]
  },
  {
   "cell_type": "code",
   "execution_count": 2,
   "metadata": {
    "slideshow": {
     "slide_type": "fragment"
    }
   },
   "outputs": [],
   "source": [
    "x = 1.0e20\n",
    "y = -1.0e20\n",
    "z = 1.0"
   ]
  },
  {
   "cell_type": "code",
   "execution_count": 3,
   "metadata": {
    "slideshow": {
     "slide_type": "fragment"
    }
   },
   "outputs": [
    {
     "data": {
      "text/plain": [
       "1.0"
      ]
     },
     "execution_count": 3,
     "metadata": {},
     "output_type": "execute_result"
    }
   ],
   "source": [
    "(x+y)+z"
   ]
  },
  {
   "cell_type": "code",
   "execution_count": 5,
   "metadata": {
    "slideshow": {
     "slide_type": "fragment"
    }
   },
   "outputs": [
    {
     "data": {
      "text/plain": [
       "0.0"
      ]
     },
     "execution_count": 5,
     "metadata": {},
     "output_type": "execute_result"
    }
   ],
   "source": [
    "x+(y+z)"
   ]
  },
  {
   "cell_type": "markdown",
   "metadata": {
    "slideshow": {
     "slide_type": "fragment"
    }
   },
   "source": [
    "What happened?"
   ]
  },
  {
   "cell_type": "markdown",
   "metadata": {
    "slideshow": {
     "slide_type": "fragment"
    }
   },
   "source": [
    "Round-off error!"
   ]
  },
  {
   "cell_type": "markdown",
   "metadata": {
    "slideshow": {
     "slide_type": "slide"
    }
   },
   "source": [
    "# Algorithmic error: instability\n",
    "\n",
    "Consider this system representing phasor rotation in the complex plane:\n",
    "$$\\dot Z = i\\omega Z, \\quad\\text{given}\\quad Z_0 = Z(t=0).$$\n",
    "Solution is\n",
    "$Z(t) = Z_0 \\exp(i\\omega t).$\n",
    "\n",
    "How can we solve it numerically?"
   ]
  },
  {
   "cell_type": "markdown",
   "metadata": {
    "slideshow": {
     "slide_type": "subslide"
    }
   },
   "source": [
    "Taylor expansion:\n",
    "$$\\dot Z(t) = \\frac{Z(t+\\Delta t)-Z(t)}{\\Delta t} + H.O.T. = i\\omega Z(t).$$\n",
    "\n",
    "Suggests algorithm: \n",
    "* Start with $Z(t=0) = Z_{old}$,\n",
    "* $Z_{new} = (1+i\\omega \\Delta t)Z_{old}$,\n",
    "* repeat.\n"
   ]
  },
  {
   "cell_type": "markdown",
   "metadata": {
    "slideshow": {
     "slide_type": "slide"
    }
   },
   "source": [
    "**Let's code it up and see**"
   ]
  },
  {
   "cell_type": "code",
   "execution_count": 11,
   "metadata": {
    "slideshow": {
     "slide_type": "-"
    }
   },
   "outputs": [
    {
     "name": "stdout",
     "output_type": "stream",
     "text": [
      "t = 0.0, z = (1+0j), |z| = 1.0\n"
     ]
    }
   ],
   "source": [
    "# Unstable solution to dz/dt\n",
    "from math import pi\n",
    "\n",
    "z = complex(1.0, 0.0)  # z0 initial condition\n",
    "omega = 1.0  # angular frequency 2*pi/period\n",
    "dt = 2*pi/(200*omega)  #time step - 200 per period\n",
    "# print initial information\n",
    "print('t = {0}, z = {1}, |z| = {2}'.format(0.0, z, abs(z)))"
   ]
  },
  {
   "cell_type": "code",
   "execution_count": 12,
   "metadata": {
    "slideshow": {
     "slide_type": "fragment"
    }
   },
   "outputs": [
    {
     "name": "stdout",
     "output_type": "stream",
     "text": [
      "t = 6.283185307179587, z = (1.1037463174652773+0.03239292018556418j), |z| = 1.1042215514090952\n"
     ]
    }
   ],
   "source": [
    "for k in range(201):  # update z\n",
    "    z *= complex(1.0, dt)\n",
    "\n",
    "# print final information\n",
    "print('t = {0}, z = {1}, |z| = {2}'.format(k*dt, z, abs(z)))"
   ]
  },
  {
   "cell_type": "markdown",
   "metadata": {
    "slideshow": {
     "slide_type": "fragment"
    }
   },
   "source": [
    "What happened? What is the problem? Why did it happen?"
   ]
  },
  {
   "cell_type": "markdown",
   "metadata": {},
   "source": [
    "Next time!"
   ]
  }
 ],
 "metadata": {
  "kernelspec": {
   "display_name": "Python [conda root]",
   "language": "python",
   "name": "conda-root-py"
  },
  "language_info": {
   "codemirror_mode": {
    "name": "ipython",
    "version": 3
   },
   "file_extension": ".py",
   "mimetype": "text/x-python",
   "name": "python",
   "nbconvert_exporter": "python",
   "pygments_lexer": "ipython3",
   "version": "3.5.4"
  }
 },
 "nbformat": 4,
 "nbformat_minor": 2
}
